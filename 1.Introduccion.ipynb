{
 "cells": [
  {
   "cell_type": "code",
   "execution_count": 28,
   "metadata": {},
   "outputs": [
    {
     "name": "stdout",
     "output_type": "stream",
     "text": [
      "Hola Mundo\n",
      "Salir de if\n"
     ]
    }
   ],
   "source": [
    "\n",
    "#Indentacion\n",
    "\n",
    "print('Hola Mundo')\n",
    "\n",
    "if 1==11 : \n",
    "    print('condicion es correcta')\n",
    "\n",
    "print('Salir de if')"
   ]
  },
  {
   "cell_type": "code",
   "execution_count": 29,
   "metadata": {},
   "outputs": [],
   "source": [
    "var1 = 5\n",
    "var2 = 'Manzana'\n",
    "var3 = 3.5"
   ]
  },
  {
   "cell_type": "code",
   "execution_count": 30,
   "metadata": {},
   "outputs": [
    {
     "data": {
      "text/plain": [
       "str"
      ]
     },
     "execution_count": 30,
     "metadata": {},
     "output_type": "execute_result"
    }
   ],
   "source": [
    "type(var2)"
   ]
  },
  {
   "cell_type": "code",
   "execution_count": 34,
   "metadata": {},
   "outputs": [],
   "source": [
    "var_compleja = 3.14j\n",
    "var_lista = [1,2,5]\n",
    "var_lista_vacia = []\n",
    "var_lista_mixta = [1,'Manzana',55.8]\n",
    "var_lista_anidada = [13,'Pera',[1,2,5]]"
   ]
  },
  {
   "cell_type": "code",
   "execution_count": 35,
   "metadata": {},
   "outputs": [
    {
     "data": {
      "text/plain": [
       "[1, 2, 5]"
      ]
     },
     "execution_count": 35,
     "metadata": {},
     "output_type": "execute_result"
    }
   ],
   "source": [
    "var_lista_anidada[2]"
   ]
  },
  {
   "cell_type": "code",
   "execution_count": 36,
   "metadata": {},
   "outputs": [
    {
     "data": {
      "text/plain": [
       "5"
      ]
     },
     "execution_count": 36,
     "metadata": {},
     "output_type": "execute_result"
    }
   ],
   "source": [
    "var_lista_anidada[2][2]"
   ]
  },
  {
   "cell_type": "code",
   "execution_count": 37,
   "metadata": {},
   "outputs": [
    {
     "name": "stdout",
     "output_type": "stream",
     "text": [
      "2\n",
      "4\n",
      "10\n"
     ]
    }
   ],
   "source": [
    "for e in var_lista : \n",
    "    print(e*2)"
   ]
  },
  {
   "cell_type": "code",
   "execution_count": 38,
   "metadata": {},
   "outputs": [
    {
     "data": {
      "text/plain": [
       "dict"
      ]
     },
     "execution_count": 38,
     "metadata": {},
     "output_type": "execute_result"
    }
   ],
   "source": [
    "#Diccionarios\n",
    "\n",
    "'''\n",
    "{\n",
    "'key1':value1,\n",
    "'key2':value2\n",
    "}\n",
    "'''\n",
    "\n",
    "var_dict = {}\n",
    "var_dict_int = {1:'Manzana',2:'Pelota'}\n",
    "var_dict_mixta = {1:34,'name':'Juan'}\n",
    "var_dict_str = {'name':'Juan','age':26}\n",
    "\n",
    "var_dict= {'emails':['drx@gmail.com','g2@gmail.com']}\n",
    "\n",
    "type(var_dict)"
   ]
  },
  {
   "cell_type": "code",
   "execution_count": 41,
   "metadata": {},
   "outputs": [
    {
     "name": "stdout",
     "output_type": "stream",
     "text": [
      "Juan\n",
      "26\n"
     ]
    }
   ],
   "source": [
    "print(var_dict_str['name'])\n",
    "print(var_dict_str['age'])\n",
    "#print(var_dict_str['address'])"
   ]
  },
  {
   "cell_type": "code",
   "execution_count": 43,
   "metadata": {},
   "outputs": [
    {
     "name": "stdout",
     "output_type": "stream",
     "text": [
      "None\n"
     ]
    }
   ],
   "source": [
    "print(var_dict_str.get('address'))"
   ]
  },
  {
   "cell_type": "code",
   "execution_count": 44,
   "metadata": {},
   "outputs": [
    {
     "name": "stdout",
     "output_type": "stream",
     "text": [
      "{'name': 'Juan', 'age': 26, 'address': 'Lima'}\n"
     ]
    }
   ],
   "source": [
    "var_dict_str['address'] = 'Lima'\n",
    "\n",
    "print(var_dict_str)"
   ]
  },
  {
   "cell_type": "code",
   "execution_count": null,
   "metadata": {},
   "outputs": [],
   "source": [
    "#Funciones\n",
    "\n",
    "def read_table(tabla):\n",
    "    query = f\"SELECT * FROM {tabla}\"\n",
    "    return execute_query(query)\n",
    "\n",
    "varProducto = read_table('producto')\n",
    "varCategoria = read_table('categoria')"
   ]
  },
  {
   "cell_type": "code",
   "execution_count": 45,
   "metadata": {},
   "outputs": [
    {
     "name": "stdout",
     "output_type": "stream",
     "text": [
      "15\n"
     ]
    }
   ],
   "source": [
    "def suma(a,b):\n",
    "    sum = a + b\n",
    "    return sum\n",
    "\n",
    "var1 = suma(-4,19)\n",
    "print(var1)"
   ]
  }
 ],
 "metadata": {
  "kernelspec": {
   "display_name": "Python 3",
   "language": "python",
   "name": "python3"
  },
  "language_info": {
   "codemirror_mode": {
    "name": "ipython",
    "version": 3
   },
   "file_extension": ".py",
   "mimetype": "text/x-python",
   "name": "python",
   "nbconvert_exporter": "python",
   "pygments_lexer": "ipython3",
   "version": "3.12.1"
  }
 },
 "nbformat": 4,
 "nbformat_minor": 2
}
