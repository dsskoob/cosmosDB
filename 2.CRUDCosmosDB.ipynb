{
 "cells": [
  {
   "cell_type": "code",
   "execution_count": 6,
   "metadata": {},
   "outputs": [],
   "source": [
    "COSMOS_ENDPOINT = ''\n",
    "COSMOS_KEY = ''\n",
    "\n",
    "DATABASE_NAME = 'Test'\n",
    "CONTAINER_NAME = 'retail'"
   ]
  },
  {
   "cell_type": "code",
   "execution_count": 7,
   "metadata": {},
   "outputs": [],
   "source": [
    "from azure.cosmos import CosmosClient, exceptions, PartitionKey"
   ]
  },
  {
   "cell_type": "code",
   "execution_count": 8,
   "metadata": {},
   "outputs": [],
   "source": [
    "client = CosmosClient(COSMOS_ENDPOINT, COSMOS_KEY)"
   ]
  },
  {
   "cell_type": "code",
   "execution_count": 9,
   "metadata": {},
   "outputs": [],
   "source": [
    "database = client.create_database_if_not_exists(id=DATABASE_NAME)"
   ]
  },
  {
   "cell_type": "code",
   "execution_count": 10,
   "metadata": {},
   "outputs": [],
   "source": [
    "container = database.create_container_if_not_exists(\n",
    "    id=CONTAINER_NAME,\n",
    "    partition_key=PartitionKey(path='/category'),\n",
    "    offer_throughput=400\n",
    "    )"
   ]
  },
  {
   "cell_type": "code",
   "execution_count": 11,
   "metadata": {},
   "outputs": [
    {
     "data": {
      "text/plain": [
       "dict"
      ]
     },
     "execution_count": 11,
     "metadata": {},
     "output_type": "execute_result"
    }
   ],
   "source": [
    "documento = {\n",
    "    \"id\":\"1\",\n",
    "    \"name\":\"Producto A\",\n",
    "    \"category\":\"Sports\",\n",
    "    \"price\":59.30\n",
    "\n",
    "}\n",
    "type(documento)"
   ]
  },
  {
   "cell_type": "code",
   "execution_count": 12,
   "metadata": {},
   "outputs": [
    {
     "data": {
      "text/plain": [
       "{'id': '1',\n",
       " 'name': 'Producto A',\n",
       " 'category': 'Sports',\n",
       " 'price': 59.3,\n",
       " '_rid': '38k-APJ59BsBAAAAAAAAAA==',\n",
       " '_self': 'dbs/38k-AA==/colls/38k-APJ59Bs=/docs/38k-APJ59BsBAAAAAAAAAA==/',\n",
       " '_etag': '\"dd006ebd-0000-0200-0000-670488000000\"',\n",
       " '_attachments': 'attachments/',\n",
       " '_ts': 1728350208}"
      ]
     },
     "execution_count": 12,
     "metadata": {},
     "output_type": "execute_result"
    }
   ],
   "source": [
    "container.create_item(body=documento)"
   ]
  },
  {
   "cell_type": "code",
   "execution_count": 13,
   "metadata": {},
   "outputs": [
    {
     "name": "stdout",
     "output_type": "stream",
     "text": [
      "[{'id': '1', 'name': 'Producto A', 'category': 'Sports', 'price': 59.3, '_rid': '38k-APJ59BsBAAAAAAAAAA==', '_self': 'dbs/38k-AA==/colls/38k-APJ59Bs=/docs/38k-APJ59BsBAAAAAAAAAA==/', '_etag': '\"dd006ebd-0000-0200-0000-670488000000\"', '_attachments': 'attachments/', '_ts': 1728350208}]\n"
     ]
    }
   ],
   "source": [
    "script = 'select * from c'\n",
    "\n",
    "items = list(container.query_items(\n",
    "    query=script,\n",
    "    enable_cross_partition_query=True\n",
    "))\n",
    "\n",
    "print(items)"
   ]
  }
 ],
 "metadata": {
  "kernelspec": {
   "display_name": "Python 3",
   "language": "python",
   "name": "python3"
  },
  "language_info": {
   "codemirror_mode": {
    "name": "ipython",
    "version": 3
   },
   "file_extension": ".py",
   "mimetype": "text/x-python",
   "name": "python",
   "nbconvert_exporter": "python",
   "pygments_lexer": "ipython3",
   "version": "3.12.1"
  }
 },
 "nbformat": 4,
 "nbformat_minor": 2
}
