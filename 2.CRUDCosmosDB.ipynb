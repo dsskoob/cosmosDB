{
 "cells": [
  {
   "cell_type": "code",
   "execution_count": 1,
   "metadata": {},
   "outputs": [],
   "source": [
    "COSMOS_ENDPOINT = 'https://azcdb-dam.documents.azure.com:443/'\n",
    "COSMOS_KEY = 'QA7riIeZuA0LAxGaoTo7DpwLrzy8X5EY2j3oDk8wvUN1kpXxMOZNMUsD3AZbNGQcf7tO5kAzH52nACDbKp4TOQ=='\n",
    "\n",
    "DATABASE_NAME = 'Test'\n",
    "CONTAINER_NAME = 'retail'"
   ]
  },
  {
   "cell_type": "code",
   "execution_count": 2,
   "metadata": {},
   "outputs": [],
   "source": [
    "from azure.cosmos import CosmosClient, exceptions, PartitionKey"
   ]
  },
  {
   "cell_type": "code",
   "execution_count": 3,
   "metadata": {},
   "outputs": [],
   "source": [
    "client = CosmosClient(COSMOS_ENDPOINT, COSMOS_KEY)"
   ]
  },
  {
   "cell_type": "code",
   "execution_count": 4,
   "metadata": {},
   "outputs": [],
   "source": [
    "database = client.create_database_if_not_exists(id=DATABASE_NAME)"
   ]
  },
  {
   "cell_type": "code",
   "execution_count": 5,
   "metadata": {},
   "outputs": [],
   "source": [
    "container = database.create_container_if_not_exists(\n",
    "    id=CONTAINER_NAME,\n",
    "    partition_key=PartitionKey(path='/category'),\n",
    "    offer_throughput=400\n",
    "    )"
   ]
  },
  {
   "cell_type": "code",
   "execution_count": 8,
   "metadata": {},
   "outputs": [
    {
     "data": {
      "text/plain": [
       "dict"
      ]
     },
     "execution_count": 8,
     "metadata": {},
     "output_type": "execute_result"
    }
   ],
   "source": [
    "documento = {\n",
    "    \"id\":\"2\",\n",
    "    \"name\":\"Producto B\",\n",
    "    \"category\":\"Sports\",\n",
    "    \"price\":89.00\n",
    "\n",
    "}\n",
    "type(documento)"
   ]
  },
  {
   "cell_type": "code",
   "execution_count": 9,
   "metadata": {},
   "outputs": [
    {
     "data": {
      "text/plain": [
       "{'id': '2',\n",
       " 'name': 'Producto B',\n",
       " 'category': 'Sports',\n",
       " 'price': 89,\n",
       " '_rid': '38k-APJ59BsCAAAAAAAAAA==',\n",
       " '_self': 'dbs/38k-AA==/colls/38k-APJ59Bs=/docs/38k-APJ59BsCAAAAAAAAAA==/',\n",
       " '_etag': '\"2e01ec7e-0000-0200-0000-670710110000\"',\n",
       " '_attachments': 'attachments/',\n",
       " '_ts': 1728516113}"
      ]
     },
     "execution_count": 9,
     "metadata": {},
     "output_type": "execute_result"
    }
   ],
   "source": [
    "container.create_item(body=documento)"
   ]
  },
  {
   "cell_type": "code",
   "execution_count": 10,
   "metadata": {},
   "outputs": [
    {
     "name": "stdout",
     "output_type": "stream",
     "text": [
      "[{'id': '1', 'name': 'Producto A', 'category': 'Sports', 'price': 59.3, '_rid': '38k-APJ59BsBAAAAAAAAAA==', '_self': 'dbs/38k-AA==/colls/38k-APJ59Bs=/docs/38k-APJ59BsBAAAAAAAAAA==/', '_etag': '\"dd006ebd-0000-0200-0000-670488000000\"', '_attachments': 'attachments/', '_ts': 1728350208}, {'id': '2', 'name': 'Producto B', 'category': 'Sports', 'price': 89, '_rid': '38k-APJ59BsCAAAAAAAAAA==', '_self': 'dbs/38k-AA==/colls/38k-APJ59Bs=/docs/38k-APJ59BsCAAAAAAAAAA==/', '_etag': '\"2e01ec7e-0000-0200-0000-670710110000\"', '_attachments': 'attachments/', '_ts': 1728516113}]\n"
     ]
    }
   ],
   "source": [
    "script = 'select * from c'\n",
    "\n",
    "items = list(container.query_items(\n",
    "    query=script,\n",
    "    enable_cross_partition_query=True\n",
    "))\n",
    "\n",
    "print(items)"
   ]
  },
  {
   "cell_type": "code",
   "execution_count": 16,
   "metadata": {},
   "outputs": [
    {
     "data": {
      "text/plain": [
       "{'id': '2',\n",
       " 'name': 'Producto B',\n",
       " 'category': 'Sports',\n",
       " 'price': 17,\n",
       " '_rid': '38k-APJ59BsCAAAAAAAAAA==',\n",
       " '_self': 'dbs/38k-AA==/colls/38k-APJ59Bs=/docs/38k-APJ59BsCAAAAAAAAAA==/',\n",
       " '_etag': '\"2e01e3f6-0000-0200-0000-6707138b0000\"',\n",
       " '_attachments': 'attachments/',\n",
       " 'descripcion': 'Bate',\n",
       " '_ts': 1728517003}"
      ]
     },
     "execution_count": 16,
     "metadata": {},
     "output_type": "execute_result"
    }
   ],
   "source": [
    "item = container.read_item(item='2', partition_key='Sports')\n",
    "item['price'] = 17\n",
    "item['descripcion'] = 'Bate'\n",
    "\n",
    "container.replace_item(item=item, body=item)"
   ]
  },
  {
   "cell_type": "code",
   "execution_count": 22,
   "metadata": {},
   "outputs": [
    {
     "name": "stdout",
     "output_type": "stream",
     "text": [
      "El item no existe:  (NotFound) Entity with the specified id does not exist in the system. More info: https://aka.ms/cosmosdb-tsg-not-found, \n",
      "RequestStartTime: 2024-10-09T23:41:04.9120050Z, RequestEndTime: 2024-10-09T23:41:04.9126972Z,  Number of regions attempted:1\n",
      "{\"systemHistory\":[{\"dateUtc\":\"2024-10-09T23:40:13.5550245Z\",\"cpu\":0.409,\"memory\":646668628.000,\"threadInfo\":{\"isThreadStarving\":\"False\",\"threadWaitIntervalInMs\":0.0532,\"availableThreads\":32765,\"minThreads\":64,\"maxThreads\":32767},\"numberOfOpenTcpConnection\":1166},{\"dateUtc\":\"2024-10-09T23:40:23.5650830Z\",\"cpu\":0.573,\"memory\":646673324.000,\"threadInfo\":{\"isThreadStarving\":\"False\",\"threadWaitIntervalInMs\":0.0392,\"availableThreads\":32765,\"minThreads\":64,\"maxThreads\":32767},\"numberOfOpenTcpConnection\":1166},{\"dateUtc\":\"2024-10-09T23:40:33.5751178Z\",\"cpu\":0.532,\"memory\":646683976.000,\"threadInfo\":{\"isThreadStarving\":\"False\",\"threadWaitIntervalInMs\":0.0555,\"availableThreads\":32765,\"minThreads\":64,\"maxThreads\":32767},\"numberOfOpenTcpConnection\":1168},{\"dateUtc\":\"2024-10-09T23:40:43.5851790Z\",\"cpu\":0.437,\"memory\":646659600.000,\"threadInfo\":{\"isThreadStarving\":\"False\",\"threadWaitIntervalInMs\":0.0547,\"availableThreads\":32762,\"minThreads\":64,\"maxThreads\":32767},\"numberOfOpenTcpConnection\":1166},{\"dateUtc\":\"2024-10-09T23:40:53.5952081Z\",\"cpu\":0.400,\"memory\":646691228.000,\"threadInfo\":{\"isThreadStarving\":\"False\",\"threadWaitIntervalInMs\":0.0263,\"availableThreads\":32765,\"minThreads\":64,\"maxThreads\":32767},\"numberOfOpenTcpConnection\":1166},{\"dateUtc\":\"2024-10-09T23:41:03.6052401Z\",\"cpu\":0.471,\"memory\":646695192.000,\"threadInfo\":{\"isThreadStarving\":\"False\",\"threadWaitIntervalInMs\":0.055,\"availableThreads\":32765,\"minThreads\":64,\"maxThreads\":32767},\"numberOfOpenTcpConnection\":1166}]}\n",
      "RequestStart: 2024-10-09T23:41:04.9121879Z; ResponseTime: 2024-10-09T23:41:04.9126972Z; StoreResult: StorePhysicalAddress: rntbd://cdb-ms-prod-eastus2-be94.documents.azure.com:14361/apps/5679bb00-dcaf-4918-be82-fa4dc8b7c8c2/services/82eb8edb-c3a4-4ea7-9806-b59174b41154/partitions/bc4fd178-8ad1-47cc-8931-d4147f034d04/replicas/133728228271101805s/, LSN: 5, GlobalCommittedLsn: 5, PartitionKeyRangeId: 0, IsValid: True, StatusCode: 404, SubStatusCode: 0, RequestCharge: 1, ItemLSN: -1, SessionToken: -1#5, UsingLocalLSN: True, TransportException: null, BELatencyMs: 0.204, ActivityId: b2bf22ef-9ab6-4540-9844-ade88f17980a, RetryAfterInMs: , ReplicaHealthStatuses: [(port: 14032 | status: Unknown | lkt: 10/9/2024 11:26:52 PM),(port: 14002 | status: Unknown | lkt: 10/9/2024 11:26:52 PM),(port: 14361 | status: Unknown | lkt: 10/9/2024 11:26:52 PM),(port: 14402 | status: Unknown | lkt: 10/9/2024 11:26:52 PM)], TransportRequestTimeline: {\"requestTimeline\":[{\"event\": \"Created\", \"startTimeUtc\": \"2024-10-09T23:41:04.9120979Z\", \"durationInMs\": 0.0082},{\"event\": \"ChannelAcquisitionStarted\", \"startTimeUtc\": \"2024-10-09T23:41:04.9121061Z\", \"durationInMs\": 0.0088},{\"event\": \"Pipelined\", \"startTimeUtc\": \"2024-10-09T23:41:04.9121149Z\", \"durationInMs\": 0.061},{\"event\": \"Transit Time\", \"startTimeUtc\": \"2024-10-09T23:41:04.9121759Z\", \"durationInMs\": 0.4603},{\"event\": \"Received\", \"startTimeUtc\": \"2024-10-09T23:41:04.9126362Z\", \"durationInMs\": 0.0557},{\"event\": \"Completed\", \"startTimeUtc\": \"2024-10-09T23:41:04.9126919Z\", \"durationInMs\": 0}],\"serviceEndpointStats\":{\"inflightRequests\":1,\"openConnections\":1},\"connectionStats\":{\"waitforConnectionInit\":\"False\",\"callsPendingReceive\":0,\"lastSendAttempt\":\"2024-10-09T23:39:24.4144272Z\",\"lastSend\":\"2024-10-09T23:39:24.4144647Z\",\"lastReceive\":\"2024-10-09T23:39:24.4149601Z\"},\"requestSizeInBytes\":538,\"responseMetadataSizeInBytes\":146,\"responseBodySizeInBytes\":87};\n",
      " ResourceType: Document, OperationType: Read\n",
      ", Microsoft.Azure.Documents.Common/2.14.0\n",
      "Code: NotFound\n",
      "Message: Entity with the specified id does not exist in the system. More info: https://aka.ms/cosmosdb-tsg-not-found, \n",
      "RequestStartTime: 2024-10-09T23:41:04.9120050Z, RequestEndTime: 2024-10-09T23:41:04.9126972Z,  Number of regions attempted:1\n",
      "{\"systemHistory\":[{\"dateUtc\":\"2024-10-09T23:40:13.5550245Z\",\"cpu\":0.409,\"memory\":646668628.000,\"threadInfo\":{\"isThreadStarving\":\"False\",\"threadWaitIntervalInMs\":0.0532,\"availableThreads\":32765,\"minThreads\":64,\"maxThreads\":32767},\"numberOfOpenTcpConnection\":1166},{\"dateUtc\":\"2024-10-09T23:40:23.5650830Z\",\"cpu\":0.573,\"memory\":646673324.000,\"threadInfo\":{\"isThreadStarving\":\"False\",\"threadWaitIntervalInMs\":0.0392,\"availableThreads\":32765,\"minThreads\":64,\"maxThreads\":32767},\"numberOfOpenTcpConnection\":1166},{\"dateUtc\":\"2024-10-09T23:40:33.5751178Z\",\"cpu\":0.532,\"memory\":646683976.000,\"threadInfo\":{\"isThreadStarving\":\"False\",\"threadWaitIntervalInMs\":0.0555,\"availableThreads\":32765,\"minThreads\":64,\"maxThreads\":32767},\"numberOfOpenTcpConnection\":1168},{\"dateUtc\":\"2024-10-09T23:40:43.5851790Z\",\"cpu\":0.437,\"memory\":646659600.000,\"threadInfo\":{\"isThreadStarving\":\"False\",\"threadWaitIntervalInMs\":0.0547,\"availableThreads\":32762,\"minThreads\":64,\"maxThreads\":32767},\"numberOfOpenTcpConnection\":1166},{\"dateUtc\":\"2024-10-09T23:40:53.5952081Z\",\"cpu\":0.400,\"memory\":646691228.000,\"threadInfo\":{\"isThreadStarving\":\"False\",\"threadWaitIntervalInMs\":0.0263,\"availableThreads\":32765,\"minThreads\":64,\"maxThreads\":32767},\"numberOfOpenTcpConnection\":1166},{\"dateUtc\":\"2024-10-09T23:41:03.6052401Z\",\"cpu\":0.471,\"memory\":646695192.000,\"threadInfo\":{\"isThreadStarving\":\"False\",\"threadWaitIntervalInMs\":0.055,\"availableThreads\":32765,\"minThreads\":64,\"maxThreads\":32767},\"numberOfOpenTcpConnection\":1166}]}\n",
      "RequestStart: 2024-10-09T23:41:04.9121879Z; ResponseTime: 2024-10-09T23:41:04.9126972Z; StoreResult: StorePhysicalAddress: rntbd://cdb-ms-prod-eastus2-be94.documents.azure.com:14361/apps/5679bb00-dcaf-4918-be82-fa4dc8b7c8c2/services/82eb8edb-c3a4-4ea7-9806-b59174b41154/partitions/bc4fd178-8ad1-47cc-8931-d4147f034d04/replicas/133728228271101805s/, LSN: 5, GlobalCommittedLsn: 5, PartitionKeyRangeId: 0, IsValid: True, StatusCode: 404, SubStatusCode: 0, RequestCharge: 1, ItemLSN: -1, SessionToken: -1#5, UsingLocalLSN: True, TransportException: null, BELatencyMs: 0.204, ActivityId: b2bf22ef-9ab6-4540-9844-ade88f17980a, RetryAfterInMs: , ReplicaHealthStatuses: [(port: 14032 | status: Unknown | lkt: 10/9/2024 11:26:52 PM),(port: 14002 | status: Unknown | lkt: 10/9/2024 11:26:52 PM),(port: 14361 | status: Unknown | lkt: 10/9/2024 11:26:52 PM),(port: 14402 | status: Unknown | lkt: 10/9/2024 11:26:52 PM)], TransportRequestTimeline: {\"requestTimeline\":[{\"event\": \"Created\", \"startTimeUtc\": \"2024-10-09T23:41:04.9120979Z\", \"durationInMs\": 0.0082},{\"event\": \"ChannelAcquisitionStarted\", \"startTimeUtc\": \"2024-10-09T23:41:04.9121061Z\", \"durationInMs\": 0.0088},{\"event\": \"Pipelined\", \"startTimeUtc\": \"2024-10-09T23:41:04.9121149Z\", \"durationInMs\": 0.061},{\"event\": \"Transit Time\", \"startTimeUtc\": \"2024-10-09T23:41:04.9121759Z\", \"durationInMs\": 0.4603},{\"event\": \"Received\", \"startTimeUtc\": \"2024-10-09T23:41:04.9126362Z\", \"durationInMs\": 0.0557},{\"event\": \"Completed\", \"startTimeUtc\": \"2024-10-09T23:41:04.9126919Z\", \"durationInMs\": 0}],\"serviceEndpointStats\":{\"inflightRequests\":1,\"openConnections\":1},\"connectionStats\":{\"waitforConnectionInit\":\"False\",\"callsPendingReceive\":0,\"lastSendAttempt\":\"2024-10-09T23:39:24.4144272Z\",\"lastSend\":\"2024-10-09T23:39:24.4144647Z\",\"lastReceive\":\"2024-10-09T23:39:24.4149601Z\"},\"requestSizeInBytes\":538,\"responseMetadataSizeInBytes\":146,\"responseBodySizeInBytes\":87};\n",
      " ResourceType: Document, OperationType: Read\n",
      ", Microsoft.Azure.Documents.Common/2.14.0\n"
     ]
    }
   ],
   "source": [
    "try:\n",
    "    item = container.read_item(item='3', partition_key='Sports')\n",
    "    item\n",
    "except Exception as e:\n",
    "    print(\"El item no existe: \", e)"
   ]
  },
  {
   "cell_type": "code",
   "execution_count": 24,
   "metadata": {},
   "outputs": [],
   "source": [
    "container.delete_item(item='2', partition_key='Sports')"
   ]
  }
 ],
 "metadata": {
  "kernelspec": {
   "display_name": "Python 3",
   "language": "python",
   "name": "python3"
  },
  "language_info": {
   "codemirror_mode": {
    "name": "ipython",
    "version": 3
   },
   "file_extension": ".py",
   "mimetype": "text/x-python",
   "name": "python",
   "nbconvert_exporter": "python",
   "pygments_lexer": "ipython3",
   "version": "3.12.1"
  }
 },
 "nbformat": 4,
 "nbformat_minor": 2
}
